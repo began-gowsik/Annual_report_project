{
  "nbformat": 4,
  "nbformat_minor": 0,
  "metadata": {
    "colab": {
      "provenance": []
    },
    "kernelspec": {
      "name": "python3",
      "display_name": "Python 3"
    },
    "language_info": {
      "name": "python"
    }
  },
  "cells": [
    {
      "cell_type": "code",
      "execution_count": null,
      "metadata": {
        "colab": {
          "base_uri": "https://localhost:8080/"
        },
        "id": "c0sOdnIaTV9N",
        "outputId": "3a3ffcbd-8df4-4da4-f9b7-ecce64a36692"
      },
      "outputs": [
        {
          "output_type": "stream",
          "name": "stdout",
          "text": [
            "Collecting PyPDF2\n",
            "  Downloading pypdf2-3.0.1-py3-none-any.whl (232 kB)\n",
            "\u001b[?25l     \u001b[90m━━━━━━━━━━━━━━━━━━━━━━━━━━━━━━━━━━━━━━━━\u001b[0m \u001b[32m0.0/232.6 kB\u001b[0m \u001b[31m?\u001b[0m eta \u001b[36m-:--:--\u001b[0m\r\u001b[2K     \u001b[91m━━━━━━━━━━━━━━━━━━━━━━━━━━━━━━━━━━━━━\u001b[0m\u001b[91m╸\u001b[0m\u001b[90m━\u001b[0m \u001b[32m225.3/232.6 kB\u001b[0m \u001b[31m7.9 MB/s\u001b[0m eta \u001b[36m0:00:01\u001b[0m\r\u001b[2K     \u001b[90m━━━━━━━━━━━━━━━━━━━━━━━━━━━━━━━━━━━━━━━\u001b[0m \u001b[32m232.6/232.6 kB\u001b[0m \u001b[31m6.2 MB/s\u001b[0m eta \u001b[36m0:00:00\u001b[0m\n",
            "\u001b[?25hInstalling collected packages: PyPDF2\n",
            "Successfully installed PyPDF2-3.0.1\n",
            "Requirement already satisfied: PyDrive in /usr/local/lib/python3.10/dist-packages (1.3.1)\n",
            "Requirement already satisfied: google-api-python-client>=1.2 in /usr/local/lib/python3.10/dist-packages (from PyDrive) (2.84.0)\n",
            "Requirement already satisfied: oauth2client>=4.0.0 in /usr/local/lib/python3.10/dist-packages (from PyDrive) (4.1.3)\n",
            "Requirement already satisfied: PyYAML>=3.0 in /usr/local/lib/python3.10/dist-packages (from PyDrive) (6.0)\n",
            "Requirement already satisfied: httplib2<1dev,>=0.15.0 in /usr/local/lib/python3.10/dist-packages (from google-api-python-client>=1.2->PyDrive) (0.21.0)\n",
            "Requirement already satisfied: google-auth<3.0.0dev,>=1.19.0 in /usr/local/lib/python3.10/dist-packages (from google-api-python-client>=1.2->PyDrive) (2.17.3)\n",
            "Requirement already satisfied: google-auth-httplib2>=0.1.0 in /usr/local/lib/python3.10/dist-packages (from google-api-python-client>=1.2->PyDrive) (0.1.0)\n",
            "Requirement already satisfied: google-api-core!=2.0.*,!=2.1.*,!=2.2.*,!=2.3.0,<3.0.0dev,>=1.31.5 in /usr/local/lib/python3.10/dist-packages (from google-api-python-client>=1.2->PyDrive) (2.11.1)\n",
            "Requirement already satisfied: uritemplate<5,>=3.0.1 in /usr/local/lib/python3.10/dist-packages (from google-api-python-client>=1.2->PyDrive) (4.1.1)\n",
            "Requirement already satisfied: pyasn1>=0.1.7 in /usr/local/lib/python3.10/dist-packages (from oauth2client>=4.0.0->PyDrive) (0.5.0)\n",
            "Requirement already satisfied: pyasn1-modules>=0.0.5 in /usr/local/lib/python3.10/dist-packages (from oauth2client>=4.0.0->PyDrive) (0.3.0)\n",
            "Requirement already satisfied: rsa>=3.1.4 in /usr/local/lib/python3.10/dist-packages (from oauth2client>=4.0.0->PyDrive) (4.9)\n",
            "Requirement already satisfied: six>=1.6.1 in /usr/local/lib/python3.10/dist-packages (from oauth2client>=4.0.0->PyDrive) (1.16.0)\n",
            "Requirement already satisfied: googleapis-common-protos<2.0.dev0,>=1.56.2 in /usr/local/lib/python3.10/dist-packages (from google-api-core!=2.0.*,!=2.1.*,!=2.2.*,!=2.3.0,<3.0.0dev,>=1.31.5->google-api-python-client>=1.2->PyDrive) (1.59.1)\n",
            "Requirement already satisfied: protobuf!=3.20.0,!=3.20.1,!=4.21.0,!=4.21.1,!=4.21.2,!=4.21.3,!=4.21.4,!=4.21.5,<5.0.0.dev0,>=3.19.5 in /usr/local/lib/python3.10/dist-packages (from google-api-core!=2.0.*,!=2.1.*,!=2.2.*,!=2.3.0,<3.0.0dev,>=1.31.5->google-api-python-client>=1.2->PyDrive) (3.20.3)\n",
            "Requirement already satisfied: requests<3.0.0.dev0,>=2.18.0 in /usr/local/lib/python3.10/dist-packages (from google-api-core!=2.0.*,!=2.1.*,!=2.2.*,!=2.3.0,<3.0.0dev,>=1.31.5->google-api-python-client>=1.2->PyDrive) (2.27.1)\n",
            "Requirement already satisfied: cachetools<6.0,>=2.0.0 in /usr/local/lib/python3.10/dist-packages (from google-auth<3.0.0dev,>=1.19.0->google-api-python-client>=1.2->PyDrive) (5.3.1)\n",
            "Requirement already satisfied: pyparsing!=3.0.0,!=3.0.1,!=3.0.2,!=3.0.3,<4,>=2.4.2 in /usr/local/lib/python3.10/dist-packages (from httplib2<1dev,>=0.15.0->google-api-python-client>=1.2->PyDrive) (3.1.0)\n",
            "Requirement already satisfied: urllib3<1.27,>=1.21.1 in /usr/local/lib/python3.10/dist-packages (from requests<3.0.0.dev0,>=2.18.0->google-api-core!=2.0.*,!=2.1.*,!=2.2.*,!=2.3.0,<3.0.0dev,>=1.31.5->google-api-python-client>=1.2->PyDrive) (1.26.16)\n",
            "Requirement already satisfied: certifi>=2017.4.17 in /usr/local/lib/python3.10/dist-packages (from requests<3.0.0.dev0,>=2.18.0->google-api-core!=2.0.*,!=2.1.*,!=2.2.*,!=2.3.0,<3.0.0dev,>=1.31.5->google-api-python-client>=1.2->PyDrive) (2023.5.7)\n",
            "Requirement already satisfied: charset-normalizer~=2.0.0 in /usr/local/lib/python3.10/dist-packages (from requests<3.0.0.dev0,>=2.18.0->google-api-core!=2.0.*,!=2.1.*,!=2.2.*,!=2.3.0,<3.0.0dev,>=1.31.5->google-api-python-client>=1.2->PyDrive) (2.0.12)\n",
            "Requirement already satisfied: idna<4,>=2.5 in /usr/local/lib/python3.10/dist-packages (from requests<3.0.0.dev0,>=2.18.0->google-api-core!=2.0.*,!=2.1.*,!=2.2.*,!=2.3.0,<3.0.0dev,>=1.31.5->google-api-python-client>=1.2->PyDrive) (3.4)\n",
            "Collecting syllables\n",
            "  Downloading syllables-1.0.7-py3-none-any.whl (15 kB)\n",
            "Collecting cmudict<2.0.0,>=1.0.11 (from syllables)\n",
            "  Downloading cmudict-1.0.13-py3-none-any.whl (939 kB)\n",
            "\u001b[2K     \u001b[90m━━━━━━━━━━━━━━━━━━━━━━━━━━━━━━━━━━━━━━\u001b[0m \u001b[32m939.3/939.3 kB\u001b[0m \u001b[31m15.8 MB/s\u001b[0m eta \u001b[36m0:00:00\u001b[0m\n",
            "\u001b[?25hCollecting importlib-metadata<6.0.0,>=5.1.0 (from syllables)\n",
            "  Downloading importlib_metadata-5.2.0-py3-none-any.whl (21 kB)\n",
            "Requirement already satisfied: importlib-resources<6.0.0,>=5.10.1 in /usr/local/lib/python3.10/dist-packages (from cmudict<2.0.0,>=1.0.11->syllables) (5.12.0)\n",
            "Requirement already satisfied: zipp>=0.5 in /usr/local/lib/python3.10/dist-packages (from importlib-metadata<6.0.0,>=5.1.0->syllables) (3.15.0)\n",
            "Installing collected packages: importlib-metadata, cmudict, syllables\n",
            "Successfully installed cmudict-1.0.13 importlib-metadata-5.2.0 syllables-1.0.7\n"
          ]
        }
      ],
      "source": [
        "!pip install PyPDF2\n",
        "!pip install PyDrive\n",
        "!pip install syllables"
      ]
    },
    {
      "cell_type": "code",
      "source": [
        "from PyPDF2 import PdfReader\n",
        "import re\n",
        "import syllables"
      ],
      "metadata": {
        "id": "2LIad0O458L1"
      },
      "execution_count": null,
      "outputs": []
    },
    {
      "cell_type": "code",
      "source": [
        "pdf_file = open('/content/3m-2022-annual-report.pdf', 'rb')\n",
        "pdf_reader = PdfReader(pdf_file)\n",
        "text = ''\n",
        "for page in pdf_reader.pages:\n",
        "    text += page.extract_text()\n",
        "pdf_file.close()"
      ],
      "metadata": {
        "id": "peCododdV1l-"
      },
      "execution_count": null,
      "outputs": []
    },
    {
      "cell_type": "code",
      "source": [
        "if len(text) > 0:\n",
        "    print(\"valid\")\n",
        "else:\n",
        "    print(\"empty\")"
      ],
      "metadata": {
        "colab": {
          "base_uri": "https://localhost:8080/"
        },
        "id": "ELWzL_qZ-kTx",
        "outputId": "6a2bfe78-9d8d-41bf-d0ba-969fc140e741"
      },
      "execution_count": null,
      "outputs": [
        {
          "output_type": "stream",
          "name": "stdout",
          "text": [
            "valid\n"
          ]
        }
      ]
    },
    {
      "cell_type": "code",
      "source": [
        "from typing import Sequence\n",
        "def calculate_fog_index(txt):\n",
        "    # Count the total number of words\n",
        "    word_count = len(re.findall(r'\\w+', txt))\n",
        "\n",
        "    # Count the number of sentences\n",
        "    sentence_count = len(re.findall(r'[.!?]+', txt))\n",
        "\n",
        "    # Count the number of complex words (words with three or more syllables)\n",
        "    complex_word_count = 0\n",
        "    for word in txt.split():\n",
        "        num_syllables = syllables.estimate(word)\n",
        "        if num_syllables >= 3:\n",
        "            complex_word_count += 1\n",
        "\n",
        "    # Calculate the average number of words per sentence\n",
        "    avg_words_per_sentence = word_count / sentence_count\n",
        "    print(avg_words_per_sentence)\n",
        "\n",
        "    # Calculate the percentage of complex words\n",
        "    percent_complex_words = (complex_word_count / word_count) * 100\n",
        "\n",
        "    # Calculate the Fog Index\n",
        "    fog_index = 0.4 * (avg_words_per_sentence + percent_complex_words)\n",
        "\n",
        "    return fog_index"
      ],
      "metadata": {
        "id": "8aEJaN5CWHiu"
      },
      "execution_count": null,
      "outputs": []
    },
    {
      "cell_type": "code",
      "source": [
        "fog__index = calculate_fog_index(text)"
      ],
      "metadata": {
        "id": "1ScAcrtxWIlW",
        "colab": {
          "base_uri": "https://localhost:8080/"
        },
        "outputId": "b2b8e982-2c8f-455a-e7e6-3b0d2f657697"
      },
      "execution_count": null,
      "outputs": [
        {
          "output_type": "stream",
          "name": "stdout",
          "text": [
            "13\n",
            "2\n",
            "3\n",
            "6.5\n",
            "23.076923076923077\n"
          ]
        }
      ]
    },
    {
      "cell_type": "code",
      "source": [
        "print(fog__index)"
      ],
      "metadata": {
        "colab": {
          "base_uri": "https://localhost:8080/"
        },
        "id": "vjPQdD4pZJAc",
        "outputId": "979c7249-caa6-4f62-e644-9c10dd410e04"
      },
      "execution_count": null,
      "outputs": [
        {
          "output_type": "stream",
          "name": "stdout",
          "text": [
            "11.830769230769231\n"
          ]
        }
      ]
    },
    {
      "cell_type": "code",
      "source": [
        "def calculate_flesch_reading_ease(txt):\n",
        "    # Count the total number of words\n",
        "    word_count = len(re.findall(r'\\w+', txt))\n",
        "\n",
        "    # Count the number of sentences\n",
        "    sentence_count = len(re.findall(r'[.!?]+', txt))\n",
        "\n",
        "    # Count the number of syllables\n",
        "    syllable_count = 0\n",
        "    for word in txt.split():\n",
        "        # Use the syllables package to count the number of syllables in each word\n",
        "        num_syllables = syllables.estimate(word)\n",
        "        syllable_count += num_syllables\n",
        "\n",
        "    # Calculate the Flesch Reading Ease index\n",
        "    score = 206.835 - 1.015 * (word_count / sentence_count) - 84.6 * (syllable_count / word_count)\n",
        "\n",
        "    return score"
      ],
      "metadata": {
        "id": "c6V3QZ211IwL"
      },
      "execution_count": null,
      "outputs": []
    },
    {
      "cell_type": "code",
      "source": [
        "print(calculate_flesch_reading_ease(text))"
      ],
      "metadata": {
        "id": "xRjDmwiHv6-l",
        "outputId": "d54ea91b-ddd6-4f9f-c3ce-1882cab42adc",
        "colab": {
          "base_uri": "https://localhost:8080/"
        }
      },
      "execution_count": null,
      "outputs": [
        {
          "output_type": "stream",
          "name": "stdout",
          "text": [
            "24.6290470311381\n"
          ]
        }
      ]
    },
    {
      "cell_type": "code",
      "source": [
        "def coleman_liau_index(txt):\n",
        "    # Count the number of characters, words, and sentences in the text\n",
        "    num_chars = len(txt)\n",
        "    num_words = len(re.findall(r'\\w+', txt))\n",
        "    num_sentences = len(re.findall(r'[.!?]+', txt))\n",
        "\n",
        "    # Calculate the average number of characters per 100 words and the average number of sentences per 100 words\n",
        "    L = (num_chars / num_words) * 100\n",
        "    S = (num_sentences / num_words) * 100\n",
        "\n",
        "    # Calculate the Coleman-Liau Index\n",
        "    CLI = 0.0588 * L - 0.296 * S - 15.8\n",
        "\n",
        "    return CLI"
      ],
      "metadata": {
        "id": "3L1MbKXGg-4b"
      },
      "execution_count": null,
      "outputs": []
    },
    {
      "cell_type": "code",
      "source": [
        "coleman_liau_index = coleman_liau_index(text)\n",
        "print(coleman_liau_index)"
      ],
      "metadata": {
        "id": "NIqclWhGhCP9"
      },
      "execution_count": null,
      "outputs": []
    }
  ]
}