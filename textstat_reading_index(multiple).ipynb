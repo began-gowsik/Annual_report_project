{
  "nbformat": 4,
  "nbformat_minor": 0,
  "metadata": {
    "colab": {
      "provenance": []
    },
    "kernelspec": {
      "name": "python3",
      "display_name": "Python 3"
    },
    "language_info": {
      "name": "python"
    }
  },
  "cells": [
    {
      "cell_type": "code",
      "execution_count": null,
      "metadata": {
        "id": "c0sOdnIaTV9N",
        "colab": {
          "base_uri": "https://localhost:8080/"
        },
        "outputId": "197d2fdc-1bc4-4ced-960f-4f319ae17140"
      },
      "outputs": [
        {
          "output_type": "stream",
          "name": "stdout",
          "text": [
            "Requirement already satisfied: PyMuPDF in /usr/local/lib/python3.10/dist-packages (1.22.5)\n",
            "Requirement already satisfied: textstat in /usr/local/lib/python3.10/dist-packages (0.7.3)\n",
            "Requirement already satisfied: pyphen in /usr/local/lib/python3.10/dist-packages (from textstat) (0.14.0)\n"
          ]
        }
      ],
      "source": [
        "!pip install PyMuPDF\n",
        "!pip install textstat"
      ]
    },
    {
      "cell_type": "code",
      "source": [
        "import re\n",
        "import os\n",
        "import fitz\n",
        "from textstat import textstat"
      ],
      "metadata": {
        "id": "2LIad0O458L1"
      },
      "execution_count": null,
      "outputs": []
    },
    {
      "cell_type": "code",
      "source": [
        "# Define a function to extract text from a PDF file\n",
        "def extract_text(pdf_path):\n",
        "    with fitz.open(pdf_path) as doc:\n",
        "        text = \"\"\n",
        "        for page in doc:\n",
        "            text += page.get_text()\n",
        "        return text\n",
        "\n",
        "# Define a function to perform some tasks on the extracted text\n",
        "def perform_tasks(text):\n",
        "    # Calculate the readability indices of the text\n",
        "    fog_index = textstat.gunning_fog(text)\n",
        "    flesch_reading_ease = textstat.flesch_reading_ease(text)\n",
        "    coleman_liau_index = textstat.coleman_liau_index(text)\n",
        "\n",
        "    # Print the results\n",
        "    print(f\"The Gunning Fog index of the annual report is {fog_index}\")\n",
        "    print(f\"The Flesch Reading Ease of the annual report is {flesch_reading_ease}\")\n",
        "    print(f\"The Coleman-Liau Index of the annual report is {coleman_liau_index}\\n\")\n",
        "\n",
        "\n",
        "# Loop through all PDF files in the directory and extract content one by one\n",
        "for file in os.listdir():\n",
        "    if file.endswith(\".pdf\"):\n",
        "        print(\"Processing:\", file)\n",
        "        pdf_path = os.path.join(os.getcwd(), file)\n",
        "        text = extract_text(pdf_path)\n",
        "        perform_tasks(text)"
      ],
      "metadata": {
        "colab": {
          "base_uri": "https://localhost:8080/"
        },
        "id": "T2eF3whNHRA8",
        "outputId": "0c8f7049-8677-4eae-e013-ced678779742"
      },
      "execution_count": null,
      "outputs": [
        {
          "output_type": "stream",
          "name": "stdout",
          "text": [
            "Processing: NYSE_MO_2022.pdf\n",
            "The Gunning Fog index of the annual report is 10.56\n",
            "The Flesch Reading Ease of the annual report is 38.15\n",
            "The Coleman-Liau Index of the annual report is 14.05\n",
            "\n",
            "Processing: NASDAQ_AMGN_2022.pdf\n",
            "The Gunning Fog index of the annual report is 10.21\n",
            "The Flesch Reading Ease of the annual report is 31.11\n",
            "The Coleman-Liau Index of the annual report is 15.21\n",
            "\n",
            "Processing: NASDAQ_ADBE_2022.pdf\n",
            "The Gunning Fog index of the annual report is 11.9\n",
            "The Flesch Reading Ease of the annual report is 27.45\n",
            "The Coleman-Liau Index of the annual report is 15.44\n",
            "\n",
            "Processing: NYSE_ABBV_2022.pdf\n",
            "The Gunning Fog index of the annual report is 9.97\n",
            "The Flesch Reading Ease of the annual report is 31.51\n",
            "The Coleman-Liau Index of the annual report is 15.03\n",
            "\n",
            "Processing: 3m-2022-annual-report.pdf\n",
            "The Gunning Fog index of the annual report is 10.91\n",
            "The Flesch Reading Ease of the annual report is 29.28\n",
            "The Coleman-Liau Index of the annual report is 14.97\n",
            "\n",
            "Processing: NYSE_AMT_2022.pdf\n",
            "The Gunning Fog index of the annual report is 9.97\n",
            "The Flesch Reading Ease of the annual report is 47.83\n",
            "The Coleman-Liau Index of the annual report is 10.74\n",
            "\n",
            "Processing: Annual_Report_ABT_2022.pdf\n",
            "The Gunning Fog index of the annual report is 10.69\n",
            "The Flesch Reading Ease of the annual report is 39.47\n",
            "The Coleman-Liau Index of the annual report is 13.41\n",
            "\n",
            "Processing: NYSE_AIG_2022.pdf\n",
            "The Gunning Fog index of the annual report is 16.62\n",
            "The Flesch Reading Ease of the annual report is 22.28\n",
            "The Coleman-Liau Index of the annual report is 16.14\n",
            "\n",
            "Processing: NYSE_AXP_2022.pdf\n",
            "The Gunning Fog index of the annual report is 11.33\n",
            "The Flesch Reading Ease of the annual report is 27.96\n",
            "The Coleman-Liau Index of the annual report is 14.86\n",
            "\n"
          ]
        }
      ]
    }
  ]
}